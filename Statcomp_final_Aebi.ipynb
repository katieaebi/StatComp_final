{
  "nbformat": 4,
  "nbformat_minor": 0,
  "metadata": {
    "colab": {
      "provenance": []
    },
    "kernelspec": {
      "name": "python3",
      "display_name": "Python 3"
    },
    "language_info": {
      "name": "python"
    }
  },
  "cells": [
    {
      "cell_type": "code",
      "execution_count": null,
      "metadata": {
        "id": "a16u-0lvHugh"
      },
      "outputs": [],
      "source": [
        "import pandas as pd\n",
        "import numpy as np\n",
        "from matplotlib import pyplot as plt\n",
        "import seaborn as sns"
      ]
    },
    {
      "cell_type": "code",
      "source": [
        "url2 = 'https://raw.githubusercontent.com/katieaebi/StatComp_final/main/ufo-sightings-transformed.csv'\n",
        "ufo_df = pd.read_csv(url2)"
      ],
      "metadata": {
        "id": "77BfVt8TTRUC"
      },
      "execution_count": null,
      "outputs": []
    },
    {
      "cell_type": "code",
      "source": [
        "ufo_df.head()"
      ],
      "metadata": {
        "colab": {
          "base_uri": "https://localhost:8080/",
          "height": 538
        },
        "id": "-l_GznfyT7-g",
        "outputId": "1318a633-3055-4bfa-b078-dd2f68395b04"
      },
      "execution_count": null,
      "outputs": [
        {
          "output_type": "execute_result",
          "data": {
            "text/plain": [
              "   Unnamed: 0            Date_time date_documented  Year  Month  Hour  Season  \\\n",
              "0           0  1949-10-10 20:30:00       4/27/2004  1949     10    20  Autumn   \n",
              "1           1  1949-10-10 21:00:00      12/16/2005  1949     10    21  Autumn   \n",
              "2           2  1955-10-10 17:00:00       1/21/2008  1955     10    17  Autumn   \n",
              "3           3  1956-10-10 21:00:00       1/17/2004  1956     10    21  Autumn   \n",
              "4           4  1960-10-10 20:00:00       1/22/2004  1960     10    20  Autumn   \n",
              "\n",
              "  Country_Code         Country   Region        Locale   latitude   longitude  \\\n",
              "0          USA   United States    Texas    San Marcos  29.883056  -97.941111   \n",
              "1          USA   United States    Texas  Bexar County  29.384210  -98.581082   \n",
              "2          GBR  United Kingdom  England       Chester  53.200000   -2.916667   \n",
              "3          USA   United States    Texas          Edna  28.978333  -96.645833   \n",
              "4          USA   United States   Hawaii       Kaneohe  21.418056 -157.803611   \n",
              "\n",
              "  UFO_shape  length_of_encounter_seconds Encounter_Duration  \\\n",
              "0  Cylinder                       2700.0         45 minutes   \n",
              "1     Light                       7200.0            1-2 hrs   \n",
              "2    Circle                         20.0         20 seconds   \n",
              "3    Circle                         20.0           1/2 hour   \n",
              "4     Light                        900.0         15 minutes   \n",
              "\n",
              "                                         Description  \n",
              "0  This event took place in early fall around 194...  \n",
              "1  1949 Lackland AFB&#44 TX.  Lights racing acros...  \n",
              "2  Green/Orange circular disc over Chester&#44 En...  \n",
              "3  My older brother and twin sister were leaving ...  \n",
              "4  AS a Marine 1st Lt. flying an FJ4B fighter/att...  "
            ],
            "text/html": [
              "\n",
              "  <div id=\"df-da77cd5d-d6ed-47c4-92b9-52c83f5cebcb\" class=\"colab-df-container\">\n",
              "    <div>\n",
              "<style scoped>\n",
              "    .dataframe tbody tr th:only-of-type {\n",
              "        vertical-align: middle;\n",
              "    }\n",
              "\n",
              "    .dataframe tbody tr th {\n",
              "        vertical-align: top;\n",
              "    }\n",
              "\n",
              "    .dataframe thead th {\n",
              "        text-align: right;\n",
              "    }\n",
              "</style>\n",
              "<table border=\"1\" class=\"dataframe\">\n",
              "  <thead>\n",
              "    <tr style=\"text-align: right;\">\n",
              "      <th></th>\n",
              "      <th>Unnamed: 0</th>\n",
              "      <th>Date_time</th>\n",
              "      <th>date_documented</th>\n",
              "      <th>Year</th>\n",
              "      <th>Month</th>\n",
              "      <th>Hour</th>\n",
              "      <th>Season</th>\n",
              "      <th>Country_Code</th>\n",
              "      <th>Country</th>\n",
              "      <th>Region</th>\n",
              "      <th>Locale</th>\n",
              "      <th>latitude</th>\n",
              "      <th>longitude</th>\n",
              "      <th>UFO_shape</th>\n",
              "      <th>length_of_encounter_seconds</th>\n",
              "      <th>Encounter_Duration</th>\n",
              "      <th>Description</th>\n",
              "    </tr>\n",
              "  </thead>\n",
              "  <tbody>\n",
              "    <tr>\n",
              "      <th>0</th>\n",
              "      <td>0</td>\n",
              "      <td>1949-10-10 20:30:00</td>\n",
              "      <td>4/27/2004</td>\n",
              "      <td>1949</td>\n",
              "      <td>10</td>\n",
              "      <td>20</td>\n",
              "      <td>Autumn</td>\n",
              "      <td>USA</td>\n",
              "      <td>United States</td>\n",
              "      <td>Texas</td>\n",
              "      <td>San Marcos</td>\n",
              "      <td>29.883056</td>\n",
              "      <td>-97.941111</td>\n",
              "      <td>Cylinder</td>\n",
              "      <td>2700.0</td>\n",
              "      <td>45 minutes</td>\n",
              "      <td>This event took place in early fall around 194...</td>\n",
              "    </tr>\n",
              "    <tr>\n",
              "      <th>1</th>\n",
              "      <td>1</td>\n",
              "      <td>1949-10-10 21:00:00</td>\n",
              "      <td>12/16/2005</td>\n",
              "      <td>1949</td>\n",
              "      <td>10</td>\n",
              "      <td>21</td>\n",
              "      <td>Autumn</td>\n",
              "      <td>USA</td>\n",
              "      <td>United States</td>\n",
              "      <td>Texas</td>\n",
              "      <td>Bexar County</td>\n",
              "      <td>29.384210</td>\n",
              "      <td>-98.581082</td>\n",
              "      <td>Light</td>\n",
              "      <td>7200.0</td>\n",
              "      <td>1-2 hrs</td>\n",
              "      <td>1949 Lackland AFB&amp;#44 TX.  Lights racing acros...</td>\n",
              "    </tr>\n",
              "    <tr>\n",
              "      <th>2</th>\n",
              "      <td>2</td>\n",
              "      <td>1955-10-10 17:00:00</td>\n",
              "      <td>1/21/2008</td>\n",
              "      <td>1955</td>\n",
              "      <td>10</td>\n",
              "      <td>17</td>\n",
              "      <td>Autumn</td>\n",
              "      <td>GBR</td>\n",
              "      <td>United Kingdom</td>\n",
              "      <td>England</td>\n",
              "      <td>Chester</td>\n",
              "      <td>53.200000</td>\n",
              "      <td>-2.916667</td>\n",
              "      <td>Circle</td>\n",
              "      <td>20.0</td>\n",
              "      <td>20 seconds</td>\n",
              "      <td>Green/Orange circular disc over Chester&amp;#44 En...</td>\n",
              "    </tr>\n",
              "    <tr>\n",
              "      <th>3</th>\n",
              "      <td>3</td>\n",
              "      <td>1956-10-10 21:00:00</td>\n",
              "      <td>1/17/2004</td>\n",
              "      <td>1956</td>\n",
              "      <td>10</td>\n",
              "      <td>21</td>\n",
              "      <td>Autumn</td>\n",
              "      <td>USA</td>\n",
              "      <td>United States</td>\n",
              "      <td>Texas</td>\n",
              "      <td>Edna</td>\n",
              "      <td>28.978333</td>\n",
              "      <td>-96.645833</td>\n",
              "      <td>Circle</td>\n",
              "      <td>20.0</td>\n",
              "      <td>1/2 hour</td>\n",
              "      <td>My older brother and twin sister were leaving ...</td>\n",
              "    </tr>\n",
              "    <tr>\n",
              "      <th>4</th>\n",
              "      <td>4</td>\n",
              "      <td>1960-10-10 20:00:00</td>\n",
              "      <td>1/22/2004</td>\n",
              "      <td>1960</td>\n",
              "      <td>10</td>\n",
              "      <td>20</td>\n",
              "      <td>Autumn</td>\n",
              "      <td>USA</td>\n",
              "      <td>United States</td>\n",
              "      <td>Hawaii</td>\n",
              "      <td>Kaneohe</td>\n",
              "      <td>21.418056</td>\n",
              "      <td>-157.803611</td>\n",
              "      <td>Light</td>\n",
              "      <td>900.0</td>\n",
              "      <td>15 minutes</td>\n",
              "      <td>AS a Marine 1st Lt. flying an FJ4B fighter/att...</td>\n",
              "    </tr>\n",
              "  </tbody>\n",
              "</table>\n",
              "</div>\n",
              "    <div class=\"colab-df-buttons\">\n",
              "\n",
              "  <div class=\"colab-df-container\">\n",
              "    <button class=\"colab-df-convert\" onclick=\"convertToInteractive('df-da77cd5d-d6ed-47c4-92b9-52c83f5cebcb')\"\n",
              "            title=\"Convert this dataframe to an interactive table.\"\n",
              "            style=\"display:none;\">\n",
              "\n",
              "  <svg xmlns=\"http://www.w3.org/2000/svg\" height=\"24px\" viewBox=\"0 -960 960 960\">\n",
              "    <path d=\"M120-120v-720h720v720H120Zm60-500h600v-160H180v160Zm220 220h160v-160H400v160Zm0 220h160v-160H400v160ZM180-400h160v-160H180v160Zm440 0h160v-160H620v160ZM180-180h160v-160H180v160Zm440 0h160v-160H620v160Z\"/>\n",
              "  </svg>\n",
              "    </button>\n",
              "\n",
              "  <style>\n",
              "    .colab-df-container {\n",
              "      display:flex;\n",
              "      gap: 12px;\n",
              "    }\n",
              "\n",
              "    .colab-df-convert {\n",
              "      background-color: #E8F0FE;\n",
              "      border: none;\n",
              "      border-radius: 50%;\n",
              "      cursor: pointer;\n",
              "      display: none;\n",
              "      fill: #1967D2;\n",
              "      height: 32px;\n",
              "      padding: 0 0 0 0;\n",
              "      width: 32px;\n",
              "    }\n",
              "\n",
              "    .colab-df-convert:hover {\n",
              "      background-color: #E2EBFA;\n",
              "      box-shadow: 0px 1px 2px rgba(60, 64, 67, 0.3), 0px 1px 3px 1px rgba(60, 64, 67, 0.15);\n",
              "      fill: #174EA6;\n",
              "    }\n",
              "\n",
              "    .colab-df-buttons div {\n",
              "      margin-bottom: 4px;\n",
              "    }\n",
              "\n",
              "    [theme=dark] .colab-df-convert {\n",
              "      background-color: #3B4455;\n",
              "      fill: #D2E3FC;\n",
              "    }\n",
              "\n",
              "    [theme=dark] .colab-df-convert:hover {\n",
              "      background-color: #434B5C;\n",
              "      box-shadow: 0px 1px 3px 1px rgba(0, 0, 0, 0.15);\n",
              "      filter: drop-shadow(0px 1px 2px rgba(0, 0, 0, 0.3));\n",
              "      fill: #FFFFFF;\n",
              "    }\n",
              "  </style>\n",
              "\n",
              "    <script>\n",
              "      const buttonEl =\n",
              "        document.querySelector('#df-da77cd5d-d6ed-47c4-92b9-52c83f5cebcb button.colab-df-convert');\n",
              "      buttonEl.style.display =\n",
              "        google.colab.kernel.accessAllowed ? 'block' : 'none';\n",
              "\n",
              "      async function convertToInteractive(key) {\n",
              "        const element = document.querySelector('#df-da77cd5d-d6ed-47c4-92b9-52c83f5cebcb');\n",
              "        const dataTable =\n",
              "          await google.colab.kernel.invokeFunction('convertToInteractive',\n",
              "                                                    [key], {});\n",
              "        if (!dataTable) return;\n",
              "\n",
              "        const docLinkHtml = 'Like what you see? Visit the ' +\n",
              "          '<a target=\"_blank\" href=https://colab.research.google.com/notebooks/data_table.ipynb>data table notebook</a>'\n",
              "          + ' to learn more about interactive tables.';\n",
              "        element.innerHTML = '';\n",
              "        dataTable['output_type'] = 'display_data';\n",
              "        await google.colab.output.renderOutput(dataTable, element);\n",
              "        const docLink = document.createElement('div');\n",
              "        docLink.innerHTML = docLinkHtml;\n",
              "        element.appendChild(docLink);\n",
              "      }\n",
              "    </script>\n",
              "  </div>\n",
              "\n",
              "\n",
              "<div id=\"df-b016e9e9-e996-44b8-8578-5f0a71e074bd\">\n",
              "  <button class=\"colab-df-quickchart\" onclick=\"quickchart('df-b016e9e9-e996-44b8-8578-5f0a71e074bd')\"\n",
              "            title=\"Suggest charts\"\n",
              "            style=\"display:none;\">\n",
              "\n",
              "<svg xmlns=\"http://www.w3.org/2000/svg\" height=\"24px\"viewBox=\"0 0 24 24\"\n",
              "     width=\"24px\">\n",
              "    <g>\n",
              "        <path d=\"M19 3H5c-1.1 0-2 .9-2 2v14c0 1.1.9 2 2 2h14c1.1 0 2-.9 2-2V5c0-1.1-.9-2-2-2zM9 17H7v-7h2v7zm4 0h-2V7h2v10zm4 0h-2v-4h2v4z\"/>\n",
              "    </g>\n",
              "</svg>\n",
              "  </button>\n",
              "\n",
              "<style>\n",
              "  .colab-df-quickchart {\n",
              "      --bg-color: #E8F0FE;\n",
              "      --fill-color: #1967D2;\n",
              "      --hover-bg-color: #E2EBFA;\n",
              "      --hover-fill-color: #174EA6;\n",
              "      --disabled-fill-color: #AAA;\n",
              "      --disabled-bg-color: #DDD;\n",
              "  }\n",
              "\n",
              "  [theme=dark] .colab-df-quickchart {\n",
              "      --bg-color: #3B4455;\n",
              "      --fill-color: #D2E3FC;\n",
              "      --hover-bg-color: #434B5C;\n",
              "      --hover-fill-color: #FFFFFF;\n",
              "      --disabled-bg-color: #3B4455;\n",
              "      --disabled-fill-color: #666;\n",
              "  }\n",
              "\n",
              "  .colab-df-quickchart {\n",
              "    background-color: var(--bg-color);\n",
              "    border: none;\n",
              "    border-radius: 50%;\n",
              "    cursor: pointer;\n",
              "    display: none;\n",
              "    fill: var(--fill-color);\n",
              "    height: 32px;\n",
              "    padding: 0;\n",
              "    width: 32px;\n",
              "  }\n",
              "\n",
              "  .colab-df-quickchart:hover {\n",
              "    background-color: var(--hover-bg-color);\n",
              "    box-shadow: 0 1px 2px rgba(60, 64, 67, 0.3), 0 1px 3px 1px rgba(60, 64, 67, 0.15);\n",
              "    fill: var(--button-hover-fill-color);\n",
              "  }\n",
              "\n",
              "  .colab-df-quickchart-complete:disabled,\n",
              "  .colab-df-quickchart-complete:disabled:hover {\n",
              "    background-color: var(--disabled-bg-color);\n",
              "    fill: var(--disabled-fill-color);\n",
              "    box-shadow: none;\n",
              "  }\n",
              "\n",
              "  .colab-df-spinner {\n",
              "    border: 2px solid var(--fill-color);\n",
              "    border-color: transparent;\n",
              "    border-bottom-color: var(--fill-color);\n",
              "    animation:\n",
              "      spin 1s steps(1) infinite;\n",
              "  }\n",
              "\n",
              "  @keyframes spin {\n",
              "    0% {\n",
              "      border-color: transparent;\n",
              "      border-bottom-color: var(--fill-color);\n",
              "      border-left-color: var(--fill-color);\n",
              "    }\n",
              "    20% {\n",
              "      border-color: transparent;\n",
              "      border-left-color: var(--fill-color);\n",
              "      border-top-color: var(--fill-color);\n",
              "    }\n",
              "    30% {\n",
              "      border-color: transparent;\n",
              "      border-left-color: var(--fill-color);\n",
              "      border-top-color: var(--fill-color);\n",
              "      border-right-color: var(--fill-color);\n",
              "    }\n",
              "    40% {\n",
              "      border-color: transparent;\n",
              "      border-right-color: var(--fill-color);\n",
              "      border-top-color: var(--fill-color);\n",
              "    }\n",
              "    60% {\n",
              "      border-color: transparent;\n",
              "      border-right-color: var(--fill-color);\n",
              "    }\n",
              "    80% {\n",
              "      border-color: transparent;\n",
              "      border-right-color: var(--fill-color);\n",
              "      border-bottom-color: var(--fill-color);\n",
              "    }\n",
              "    90% {\n",
              "      border-color: transparent;\n",
              "      border-bottom-color: var(--fill-color);\n",
              "    }\n",
              "  }\n",
              "</style>\n",
              "\n",
              "  <script>\n",
              "    async function quickchart(key) {\n",
              "      const quickchartButtonEl =\n",
              "        document.querySelector('#' + key + ' button');\n",
              "      quickchartButtonEl.disabled = true;  // To prevent multiple clicks.\n",
              "      quickchartButtonEl.classList.add('colab-df-spinner');\n",
              "      try {\n",
              "        const charts = await google.colab.kernel.invokeFunction(\n",
              "            'suggestCharts', [key], {});\n",
              "      } catch (error) {\n",
              "        console.error('Error during call to suggestCharts:', error);\n",
              "      }\n",
              "      quickchartButtonEl.classList.remove('colab-df-spinner');\n",
              "      quickchartButtonEl.classList.add('colab-df-quickchart-complete');\n",
              "    }\n",
              "    (() => {\n",
              "      let quickchartButtonEl =\n",
              "        document.querySelector('#df-b016e9e9-e996-44b8-8578-5f0a71e074bd button');\n",
              "      quickchartButtonEl.style.display =\n",
              "        google.colab.kernel.accessAllowed ? 'block' : 'none';\n",
              "    })();\n",
              "  </script>\n",
              "</div>\n",
              "    </div>\n",
              "  </div>\n"
            ]
          },
          "metadata": {},
          "execution_count": 4
        }
      ]
    },
    {
      "cell_type": "code",
      "source": [
        "len(ufo_df)"
      ],
      "metadata": {
        "colab": {
          "base_uri": "https://localhost:8080/"
        },
        "id": "8r3G1myTLbJd",
        "outputId": "57e7f3a1-24e7-4870-ccc0-08e275b908eb"
      },
      "execution_count": null,
      "outputs": [
        {
          "output_type": "execute_result",
          "data": {
            "text/plain": [
              "80328"
            ]
          },
          "metadata": {},
          "execution_count": 5
        }
      ]
    },
    {
      "cell_type": "markdown",
      "source": [
        "Chance model:\n",
        "Does summer have statistically longer UFO encounters than other seasons?\n",
        "\n",
        "Null: length of encounters in summer <= length of encounters in other seasons,\n",
        "Alternative: length of encounters in summer > length of encounters in other seasons\n",
        "\n",
        "Test stat: summer-other seasons\n",
        "\n",
        "Positive values support the alternative, and negative values support the null\n",
        "\n",
        "Significance level: a = .01"
      ],
      "metadata": {
        "id": "2VNlzPSJ1XE6"
      }
    },
    {
      "cell_type": "code",
      "source": [
        "summer_mean_seconds = ufo_df[ufo_df['Season']=='Summer']['length_of_encounter_seconds'].mean()\n",
        "summer_std_seconds = ufo_df[ufo_df['Season']=='Summer']['length_of_encounter_seconds'].std()\n",
        "all_mean_seconds = ufo_df['length_of_encounter_seconds'].mean()\n",
        "all_std_seconds =  ufo_df['length_of_encounter_seconds'].std()\n",
        "\n",
        "print(summer_mean_seconds)\n",
        "print(all_mean_seconds)\n",
        "print(all_std_seconds)"
      ],
      "metadata": {
        "colab": {
          "base_uri": "https://localhost:8080/"
        },
        "id": "nr2FpiR_MhFp",
        "outputId": "127256af-ebd2-44c3-da25-98e57e478be1"
      },
      "execution_count": null,
      "outputs": [
        {
          "output_type": "stream",
          "name": "stdout",
          "text": [
            "11636.46930930931\n",
            "9017.335648354247\n",
            "620232.22916874\n"
          ]
        }
      ]
    },
    {
      "cell_type": "code",
      "source": [
        "from scipy.stats import norm as norm"
      ],
      "metadata": {
        "id": "N9hOi49ANm7r"
      },
      "execution_count": null,
      "outputs": []
    },
    {
      "cell_type": "code",
      "source": [
        "#generate 10,000 random variables\n",
        "rand_var_all = norm.rvs(loc=all_mean_seconds, scale=all_std_seconds, size=10000)\n",
        "rand_var_summer = norm.rvs(loc=summer_mean_seconds, scale=summer_std_seconds, size=10000)"
      ],
      "metadata": {
        "id": "pmcpogYkSBPM"
      },
      "execution_count": null,
      "outputs": []
    },
    {
      "cell_type": "code",
      "source": [
        "test_stats = []\n",
        "for i, value in enumerate(rand_var_all):\n",
        "  stat = rand_var_summer[i] - value\n",
        "  if stat<=value:\n",
        "    test_stats.append(stat)\n",
        "test_stats = np.array(test_stats)"
      ],
      "metadata": {
        "id": "N7STdkN5w-NM"
      },
      "execution_count": null,
      "outputs": []
    },
    {
      "cell_type": "code",
      "source": [
        "plt.figure(figsize = (10,8))\n",
        "plt.hist(rand_var_all)\n",
        "plt.axvline(summer_mean_seconds, c='r', label='Observed Mean for SummerEncounter Lengths')\n",
        "plt.title('Simulated Averages for Length of All UFO Encounters')\n",
        "plt.xlabel('Mean Lengths of Encounters (in Seconds x10^6)')\n",
        "plt.legend()"
      ],
      "metadata": {
        "colab": {
          "base_uri": "https://localhost:8080/",
          "height": 735
        },
        "id": "ZiCjTgdSSSmY",
        "outputId": "d2e70e8c-9f3a-4c9d-ee67-bfe1da7ef7e1"
      },
      "execution_count": null,
      "outputs": [
        {
          "output_type": "execute_result",
          "data": {
            "text/plain": [
              "<matplotlib.legend.Legend at 0x7dacc9d5d3c0>"
            ]
          },
          "metadata": {},
          "execution_count": 54
        },
        {
          "output_type": "display_data",
          "data": {
            "text/plain": [
              "<Figure size 1000x800 with 1 Axes>"
            ],
            "image/png": "[encoded data removed]"
          },
          "metadata": {}
        }
      ]
    },
    {
      "cell_type": "code",
      "source": [
        "plt.figure(figsize = (10,8))\n",
        "plt.hist(test_stats)\n",
        "plt.axvline(summer_mean_seconds-all_mean_seconds, c='r', label = 'Observed Test Stat')\n",
        "plt.xlabel('Test Stats')\n",
        "plt.title('Distribution of Test Statistics (Summer Mean-Year Mean)')\n",
        "plt.legend()"
      ],
      "metadata": {
        "colab": {
          "base_uri": "https://localhost:8080/",
          "height": 735
        },
        "id": "RF63sbK2xnw-",
        "outputId": "5d72d2d1-610f-4d32-dfca-459af1c8d282"
      },
      "execution_count": null,
      "outputs": [
        {
          "output_type": "execute_result",
          "data": {
            "text/plain": [
              "<matplotlib.legend.Legend at 0x7dacca1b7190>"
            ]
          },
          "metadata": {},
          "execution_count": 53
        },
        {
          "output_type": "display_data",
          "data": {
            "text/plain": [
              "<Figure size 1000x800 with 1 Axes>"
            ],
            "image/png": "[encoded data removed]"
          },
          "metadata": {}
        }
      ]
    },
    {
      "cell_type": "code",
      "source": [
        "p_null = len(rand_var_all[summer_mean_seconds <= rand_var_all])/len(rand_var_all)\n",
        "p_val = len(rand_var_all[rand_var_all >= abs(summer_mean_seconds-p_null)])/len(rand_var_all)\n",
        "print(p_val)"
      ],
      "metadata": {
        "colab": {
          "base_uri": "https://localhost:8080/"
        },
        "id": "vqgR20vOU5Fk",
        "outputId": "fae39d1c-3fcc-47ac-a2f9-c9033b17336d"
      },
      "execution_count": null,
      "outputs": [
        {
          "output_type": "stream",
          "name": "stdout",
          "text": [
            "0.5008\n"
          ]
        }
      ]
    },
    {
      "cell_type": "code",
      "source": [
        "#Fail to reject the null. There was *wildly* not convincing evidence that ufo encounters in the summer occur for longer than encounters in other seasons."
      ],
      "metadata": {
        "id": "fYhBRKe_WaCx"
      },
      "execution_count": null,
      "outputs": []
    },
    {
      "cell_type": "markdown",
      "source": [
        "Permutation test:\n",
        "\n",
        "Is the distribution of UFO shapes significantly different in Florida than in Texas?\n",
        "\n",
        "Null: Florida shapes = Texas shapes,\n",
        "Alternative: Florida shapes != Texas shapes\n",
        "\n",
        "Test stat: total variation distance\n",
        "\n",
        "Large values support alternative, small values support the null\n",
        "\n",
        "Significance level: a=.05"
      ],
      "metadata": {
        "id": "wMiF1z9xYEiE"
      }
    },
    {
      "cell_type": "code",
      "source": [
        "shape_names = np.array(ufo_df['UFO_shape'].unique())\n",
        "shape_names"
      ],
      "metadata": {
        "colab": {
          "base_uri": "https://localhost:8080/"
        },
        "id": "mjJSuKryYzyb",
        "outputId": "3fc91dd3-c62d-4bfb-a347-d468e56dc89d"
      },
      "execution_count": null,
      "outputs": [
        {
          "output_type": "execute_result",
          "data": {
            "text/plain": [
              "array(['Cylinder', 'Light', 'Circle', 'Sphere', 'Disk', 'Fireball',\n",
              "       'Unknown', 'Oval', 'Other', 'Cigar', 'Rectangle', 'Chevron',\n",
              "       'Triangle', 'Formation', nan, 'Delta', 'Changing', 'Egg',\n",
              "       'Diamond', 'Flash', 'Teardrop', 'Cone', 'Cross', 'Pyramid',\n",
              "       'Round', 'Crescent', 'Flare', 'Hexagon', 'Dome', 'Changed'],\n",
              "      dtype=object)"
            ]
          },
          "metadata": {},
          "execution_count": 12
        }
      ]
    },
    {
      "cell_type": "code",
      "source": [
        "obs_shapes_florida = np.zeros(len(ufo_df['UFO_shape'].unique()))\n",
        "obs_shapes_texas = np.zeros(len(ufo_df['UFO_shape'].unique()))\n",
        "\n",
        "for i, shape in enumerate(ufo_df['UFO_shape'].unique()):\n",
        "  florida_count = len(ufo_df[ufo_df['Region'] == 'Florida'][ufo_df['UFO_shape'] == shape])\n",
        "  texas_count = len(ufo_df[ufo_df['Region'] == 'Texas'][ufo_df['UFO_shape'] == shape])\n",
        "  obs_shapes_florida[i] = florida_count\n",
        "  obs_shapes_texas[i] = texas_count"
      ],
      "metadata": {
        "colab": {
          "base_uri": "https://localhost:8080/"
        },
        "id": "3KDpKRVfW1PX",
        "outputId": "d1c4bf0f-8948-43e4-986b-f051f45dbd5b"
      },
      "execution_count": null,
      "outputs": [
        {
          "output_type": "stream",
          "name": "stderr",
          "text": [
            "<ipython-input-13-386d39591df0>:5: UserWarning: Boolean Series key will be reindexed to match DataFrame index.\n",
            "  florida_count = len(ufo_df[ufo_df['Region'] == 'Florida'][ufo_df['UFO_shape'] == shape])\n",
            "<ipython-input-13-386d39591df0>:6: UserWarning: Boolean Series key will be reindexed to match DataFrame index.\n",
            "  texas_count = len(ufo_df[ufo_df['Region'] == 'Texas'][ufo_df['UFO_shape'] == shape])\n"
          ]
        }
      ]
    },
    {
      "cell_type": "code",
      "source": [
        "def get_tvd(dist_one, dist_two):\n",
        "  return sum(np.abs(dist_one-dist_two))/2"
      ],
      "metadata": {
        "id": "Q4oeoXGJglIv"
      },
      "execution_count": null,
      "outputs": []
    },
    {
      "cell_type": "code",
      "source": [
        "obs_tvd = get_tvd(obs_shapes_florida, obs_shapes_texas)\n",
        "obs_tvd"
      ],
      "metadata": {
        "colab": {
          "base_uri": "https://localhost:8080/"
        },
        "id": "hzwOqUVJqXmP",
        "outputId": "1723322b-b6b2-4695-a5cf-9b2c8c351757"
      },
      "execution_count": null,
      "outputs": [
        {
          "output_type": "execute_result",
          "data": {
            "text/plain": [
              "296.0"
            ]
          },
          "metadata": {},
          "execution_count": 15
        }
      ]
    },
    {
      "cell_type": "code",
      "source": [
        "FT_shapes_array = np.array(ufo_df[ufo_df['Region'] == 'Florida']['UFO_shape'].append(ufo_df[ufo_df['Region'] == 'Texas']['UFO_shape']))\n",
        "FT_names_array = np.array(ufo_df[ufo_df['Region'] == 'Florida']['Region'].append(ufo_df[ufo_df['Region'] == 'Texas']['Region']))\n",
        "\n",
        "print(FT_shapes_array)\n",
        "print(FT_names_array)"
      ],
      "metadata": {
        "colab": {
          "base_uri": "https://localhost:8080/"
        },
        "id": "B64FAAW-gGk4",
        "outputId": "fa30e460-8a58-4609-b974-024f83deb05c"
      },
      "execution_count": null,
      "outputs": [
        {
          "output_type": "stream",
          "name": "stdout",
          "text": [
            "['Disk' 'Formation' 'Triangle' ... 'Light' 'Formation' 'Cigar']\n",
            "['Florida' 'Florida' 'Florida' ... 'Texas' 'Texas' 'Texas']\n"
          ]
        },
        {
          "output_type": "stream",
          "name": "stderr",
          "text": [
            "<ipython-input-16-8540832a4edd>:1: FutureWarning: The series.append method is deprecated and will be removed from pandas in a future version. Use pandas.concat instead.\n",
            "  FT_shapes_array = np.array(ufo_df[ufo_df['Region'] == 'Florida']['UFO_shape'].append(ufo_df[ufo_df['Region'] == 'Texas']['UFO_shape']))\n",
            "<ipython-input-16-8540832a4edd>:2: FutureWarning: The series.append method is deprecated and will be removed from pandas in a future version. Use pandas.concat instead.\n",
            "  FT_names_array = np.array(ufo_df[ufo_df['Region'] == 'Florida']['Region'].append(ufo_df[ufo_df['Region'] == 'Texas']['Region']))\n"
          ]
        }
      ]
    },
    {
      "cell_type": "code",
      "source": [
        "def rand_states():\n",
        "  np.random.shuffle(FT_names_array)\n",
        "  return FT_names_array"
      ],
      "metadata": {
        "id": "UGERrcjHiN7r"
      },
      "execution_count": null,
      "outputs": []
    },
    {
      "cell_type": "code",
      "source": [
        "rand_states()"
      ],
      "metadata": {
        "colab": {
          "base_uri": "https://localhost:8080/"
        },
        "id": "mxsFHLQWneD7",
        "outputId": "4f5338d4-403d-4ec2-945e-9f1530e425ec"
      },
      "execution_count": null,
      "outputs": [
        {
          "output_type": "execute_result",
          "data": {
            "text/plain": [
              "array(['Florida', 'Florida', 'Florida', ..., 'Florida', 'Texas', 'Texas'],\n",
              "      dtype=object)"
            ]
          },
          "metadata": {},
          "execution_count": 18
        }
      ]
    },
    {
      "cell_type": "code",
      "source": [
        "def create_simulated_test_stat():\n",
        "  sim_shapes_florida = np.zeros(len(ufo_df['UFO_shape'].unique()))\n",
        "  sim_shapes_texas = np.zeros(len(ufo_df['UFO_shape'].unique()))\n",
        "\n",
        "  sim_states = rand_states()\n",
        "\n",
        "  for i, shape in enumerate(ufo_df['UFO_shape'].unique()):\n",
        "    fake_florida = FT_shapes_array[sim_states == 'Florida']\n",
        "    florida_count = len(fake_florida[fake_florida == shape])\n",
        "    fake_texas = FT_shapes_array[sim_states == 'Texas']\n",
        "    texas_count = len(fake_texas[fake_texas == shape])\n",
        "    sim_shapes_florida[i] = florida_count\n",
        "    sim_shapes_texas[i] = texas_count\n",
        "\n",
        "  fake_test_stat = get_tvd(sim_shapes_florida, sim_shapes_texas)\n",
        "  return fake_test_stat"
      ],
      "metadata": {
        "id": "1dqPMFW1O4x4"
      },
      "execution_count": null,
      "outputs": []
    },
    {
      "cell_type": "code",
      "source": [
        "create_simulated_test_stat()"
      ],
      "metadata": {
        "id": "mg0ddLSVpnYo",
        "colab": {
          "base_uri": "https://localhost:8080/"
        },
        "outputId": "1ba545b8-a71b-481d-da1f-560d20cef1b6"
      },
      "execution_count": null,
      "outputs": [
        {
          "output_type": "execute_result",
          "data": {
            "text/plain": [
              "245.0"
            ]
          },
          "metadata": {},
          "execution_count": 20
        }
      ]
    },
    {
      "cell_type": "code",
      "source": [
        "sim_tvds = np.zeros(10000)\n",
        "\n",
        "for i in range(10000):\n",
        "  tvd = create_simulated_test_stat()\n",
        "  sim_tvds[i] = tvd"
      ],
      "metadata": {
        "id": "SzpCckHfIZNz"
      },
      "execution_count": null,
      "outputs": []
    },
    {
      "cell_type": "code",
      "source": [
        "sig_level = np.percentile(sim_tvds, 95)"
      ],
      "metadata": {
        "id": "d3PWy59iVhV6"
      },
      "execution_count": null,
      "outputs": []
    },
    {
      "cell_type": "code",
      "source": [
        "plt.figure(figsize = (10,8))\n",
        "plt.hist(sim_tvds)\n",
        "plt.axvline(obs_tvd, c='r', label='Observed TVD between Florida and Texas')\n",
        "plt.axvspan(ymax = 4000, ymin=0, xmin=sig_level, xmax=sim_tvds.max(), alpha=.5, color='green', label='Sig. Level' )\n",
        "plt.xlabel(\"Total Variation Distances\")\n",
        "plt.title(\"TVDs of Simulated Florida and Texas Shape Distributions\")\n",
        "plt.legend()"
      ],
      "metadata": {
        "colab": {
          "base_uri": "https://localhost:8080/",
          "height": 735
        },
        "id": "CnDlXXZiK20g",
        "outputId": "8c90d8bc-30a4-498c-e1dc-55da6a85991c"
      },
      "execution_count": null,
      "outputs": [
        {
          "output_type": "execute_result",
          "data": {
            "text/plain": [
              "<matplotlib.legend.Legend at 0x7dacd29e5c60>"
            ]
          },
          "metadata": {},
          "execution_count": 33
        },
        {
          "output_type": "display_data",
          "data": {
            "text/plain": [
              "<Figure size 1000x800 with 1 Axes>"
            ],
            "image/png": "[encoded data removed]"
          },
          "metadata": {}
        }
      ]
    },
    {
      "cell_type": "code",
      "source": [
        "#Fail to reject the null. There is not convincing evidence that the distribution of UFO shapes differs significantly from Florida to Texas."
      ],
      "metadata": {
        "id": "seBvVjpWorwE"
      },
      "execution_count": null,
      "outputs": []
    },
    {
      "cell_type": "markdown",
      "source": [
        "Bootstrapping:   \n",
        "\n",
        "Most encounters in the dataset occur during dark hours of the day. How would the mean hour of sightings change in a location like Alaska where daylight patterns work differently?\n",
        "\n",
        "What is the mean hour of encounter in Alaska and how does it compare to the global average?\n",
        "\n",
        "Null: Alaska's mean hour of encounter = global mean hour,\n",
        "Alternative: Alaska's mean hour != global mean hour\n",
        "\n",
        "Test Stat: mean\n",
        "\n",
        "If the global average falls within the confidence interval for the Alaskan average, then that means that they are similar, supporting the null hypothesis; otherwise, they are dissimilar, supporting the alternative.\n",
        "\n",
        "Significance level: a=.05"
      ],
      "metadata": {
        "id": "E7y8-ihYnKi6"
      }
    },
    {
      "cell_type": "code",
      "source": [
        "ufo_df[ufo_df['Region']=='Alaska']['Season'].value_counts()"
      ],
      "metadata": {
        "colab": {
          "base_uri": "https://localhost:8080/"
        },
        "id": "bMJ6fy4hmW4S",
        "outputId": "d0a7d382-81f2-46d9-859f-6e6e7a6b6984"
      },
      "execution_count": null,
      "outputs": [
        {
          "output_type": "execute_result",
          "data": {
            "text/plain": [
              "Winter    111\n",
              "Autumn    107\n",
              "Spring     77\n",
              "Summer     58\n",
              "Name: Season, dtype: int64"
            ]
          },
          "metadata": {},
          "execution_count": 36
        }
      ]
    },
    {
      "cell_type": "code",
      "source": [
        "obs_alaska = ufo_df[ufo_df['Region']=='Alaska']['Hour'].mean()\n",
        "obs_global = ufo_df['Hour'].mean()"
      ],
      "metadata": {
        "id": "eAMqpQJDouey"
      },
      "execution_count": null,
      "outputs": []
    },
    {
      "cell_type": "code",
      "source": [
        "def one_bootstrapped_mean():\n",
        "  alaska_only = ufo_df[ufo_df['Region']=='Alaska']\n",
        "  mimic_alaska = alaska_only.sample(n=len(alaska_only), replace=True)\n",
        "  return np.average(mimic_alaska['Hour'])"
      ],
      "metadata": {
        "id": "X9sA3lnSVixw"
      },
      "execution_count": null,
      "outputs": []
    },
    {
      "cell_type": "code",
      "source": [
        "one_bootstrapped_mean()"
      ],
      "metadata": {
        "colab": {
          "base_uri": "https://localhost:8080/"
        },
        "id": "XpRjy2JmWzQw",
        "outputId": "d3a731c9-f7e0-47ee-dca9-15248aadd122"
      },
      "execution_count": null,
      "outputs": [
        {
          "output_type": "execute_result",
          "data": {
            "text/plain": [
              "14.385269121813032"
            ]
          },
          "metadata": {},
          "execution_count": 26
        }
      ]
    },
    {
      "cell_type": "code",
      "source": [
        "numsim = 10000\n",
        "boots = np.zeros(numsim)\n",
        "\n",
        "for i in range(numsim):\n",
        "  boots[i] = one_bootstrapped_mean()"
      ],
      "metadata": {
        "id": "o4xtLZORW1v1"
      },
      "execution_count": null,
      "outputs": []
    },
    {
      "cell_type": "code",
      "source": [
        "boots"
      ],
      "metadata": {
        "colab": {
          "base_uri": "https://localhost:8080/"
        },
        "id": "cCEaSQQZXbtc",
        "outputId": "37123a54-531f-49b4-b3c4-7f1cd70140be"
      },
      "execution_count": null,
      "outputs": [
        {
          "output_type": "execute_result",
          "data": {
            "text/plain": [
              "array([13.92351275, 15.18413598, 14.22379603, ..., 13.84419263,\n",
              "       14.54957507, 13.9121813 ])"
            ]
          },
          "metadata": {},
          "execution_count": 28
        }
      ]
    },
    {
      "cell_type": "code",
      "source": [
        "left_endpoint = np.percentile(boots, 2.5)\n",
        "right_endpoint = np.percentile(boots, 97.5)"
      ],
      "metadata": {
        "id": "W-TxsdkAXPo3"
      },
      "execution_count": null,
      "outputs": []
    },
    {
      "cell_type": "code",
      "source": [
        "plt.figure(figsize = (10,8))\n",
        "plt.hist(boots)\n",
        "plt.axvspan(ymax = boots.max(), ymin = 0, xmax = right_endpoint, xmin = left_endpoint, alpha=0.5, color='green', label='Confidence Interval')\n",
        "plt.axvline(obs_alaska, c='r', label = 'Alaska observed value')\n",
        "plt.axvline(obs_global, c='m', label = 'Global observed value')\n",
        "plt.title('Distribution of Average Hour of UFO Sightings in Alaska')\n",
        "plt.legend()"
      ],
      "metadata": {
        "colab": {
          "base_uri": "https://localhost:8080/",
          "height": 716
        },
        "id": "zNlUbeQ6Xg2g",
        "outputId": "75b1e6c6-aee1-4208-c1b2-45045035999b"
      },
      "execution_count": null,
      "outputs": [
        {
          "output_type": "execute_result",
          "data": {
            "text/plain": [
              "<matplotlib.legend.Legend at 0x7dacca27b940>"
            ]
          },
          "metadata": {},
          "execution_count": 40
        },
        {
          "output_type": "display_data",
          "data": {
            "text/plain": [
              "<Figure size 1000x800 with 1 Axes>"
            ],
            "image/png": "[encoded data removed]"
          },
          "metadata": {}
        }
      ]
    },
    {
      "cell_type": "code",
      "source": [
        "#reject the null hypothesis. There is convincing evidence to suggest that the mean hour of UFO sightings in Alaska is statistically lower\n",
        "#than the global mean hour of UFO sightings."
      ],
      "metadata": {
        "id": "adupw4MLo_mA"
      },
      "execution_count": null,
      "outputs": []
    }
  ]
}